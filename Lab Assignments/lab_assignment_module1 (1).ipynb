{
  "cells": [
    {
      "cell_type": "markdown",
      "metadata": {
        "id": "G0BcK0H_G1Iu"
      },
      "source": [
        "# **AP155 Lab Assignment**\n",
        "## Module 1: Integrals and Derivatives\n",
        "\n",
        "_Instructions_: Answer each problem as completely as you can. Discuss **all** your answers as clearly and concisely as possible.\n",
        "\n",
        "_Scoring Criteria_: 50% - *correctness of code*; 50% - *discussion of the code and results*. Maximum score is **100 points**.\n",
        "\n",
        "\n"
      ]
    },
    {
      "cell_type": "markdown",
      "metadata": {
        "id": "PeHZ9kP8JaVR"
      },
      "source": [
        "### Student Information\n",
        "\n",
        "_Full Name (Torero, William Klien)_: \\\n",
        "_Student No.2022-10739:\\\n",
        "_Section THV-TX-2:"
      ]
    },
    {
      "cell_type": "markdown",
      "metadata": {
        "id": "Hc183co-J4eI"
      },
      "source": [
        "### Submission Information\n",
        "\n",
        "_Date and Time Submitted (most recent upload)_: September 18, 2024 6:00pm\n",
        "\n",
        "**HONOR PLEDGE** I affirm that I have upheld the highest principles of honesty and integrity in my academic work and that this lab assignment is my own work.\n",
        "\n",
        "**Sign here with your full name: William Klien B. Torero ![Signature.png](data:image/png;base64,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)"
      ]
    },
    {
      "cell_type": "markdown",
      "metadata": {
        "id": "X1UGsRpW-eQs"
      },
      "source": [
        "### Grading Information (c/o Lab Instructor)\n",
        "\n",
        "TOTAL SCORE: **XX**/100\n",
        "\n",
        "Score breakdown:\n",
        "* Problem 1 - XX/30\n",
        "* Problem 2 - XX/30\n",
        "* Problem 3 - XX/40\n",
        "\n",
        "_Date and Time Scored (MM/DD/YYYY HH:MM AM/PM):_"
      ]
    },
    {
      "cell_type": "markdown",
      "metadata": {
        "id": "LxWuqiCFMsEh"
      },
      "source": [
        "### PROBLEM 1\n",
        "**Integration using the trapezoidal rule and Simpson's rule**\n",
        "\n",
        "Calculate the integral of the function $ 2x^4 + 3x^2 + 4x + 5$ from $x=0$ to $x=5$.\n",
        "\n",
        "1. Do the numerical calculation using the trapezoidal rule with 10, 100, and 1,000 slices. Describe each step of the calculation clearly and concisely. *(10 pts.)*\n",
        "\n",
        "2. What are the percentage errors of your answers in (1)? *(10 pts.)*\n",
        "\n",
        "3. Repeat the calculation using Simpson's rule with 10, 100, and 1,000 slices. Describe each step of the calculation clearly and concisely. *(5 pts.)*\n",
        "\n",
        "4. What are the percentage errors of your answers in (3)? How do they compare with the results from (1) for the same number of slices? *(5 pts.)*"
      ]
    },
    {
      "cell_type": "code",
      "execution_count": 1,
      "metadata": {
        "colab": {
          "base_uri": "https://localhost:8080/"
        },
        "id": "hMqWOsbIMoUh",
        "outputId": "8a9b4578-195e-47d5-dc03-1bed1ccdc2d2"
      },
      "outputs": [
        {
          "output_type": "stream",
          "name": "stdout",
          "text": [
            "10 1471.4375 0.01478448275862069\n",
            "100 1450.2145812500003 0.00014798706896569988\n",
            "1000 1450.0021458331234 1.4798849127240327e-06\n",
            "10 1450.0833333333333 5.7471264367763824e-05\n",
            "100 1450.0000083333337 5.747126657485657e-09\n",
            "1000 1450.000000000834 5.75176994155707e-13\n"
          ]
        }
      ],
      "source": [
        "# Problem 1\n",
        "# Use the Trapezoidal rule and Simpson's rule calculate a function\n",
        "# We first define the variables that will be used\n",
        "N_arr = ([10, 100, 1000]) ## Number of slices in the area under the curve\n",
        "a = 0.0 # Lower limit of the integration\n",
        "b = 5.0 # Upper limit of the integration\n",
        "exact_value = 1450 # Exact answer of the integration with the given limits\n",
        "\n",
        "# We also define the function that will be integrated\n",
        "def f(x):\n",
        "  return 2*x**4 + 3*x**2 + 4*x + 5\n",
        "\n",
        "\n",
        "# We then define the formula of Trapedoidal rule depending on the given parameters\n",
        "def integ_trapezoidal(a, b, n):\n",
        "  s = 0.5*f(a) + 0.5*f(b) # Terms in the formula of Trapezoidal rule\n",
        "  h = (b-a)/n # Width of one slice of trapezoid\n",
        "\n",
        "# We then make a loop for every value of k depending on the value of N, with n as a place holder\n",
        "  for k in range(1,n):\n",
        "   s += f(a+k*h) # Increment to the formula of Trapezoidal rule\n",
        "\n",
        "  return h*s\n",
        "\n",
        "# A for-loop is then created to apply the values of different values of N\n",
        "for N in N_arr:\n",
        "   t = integ_trapezoidal(a, b, N) # Setting t as variable for Trapedoizal rule\n",
        "   percent_error = (t-exact_value)/exact_value # Percentage of the error depending on N\n",
        "   print(N, t, percent_error)\n",
        "\n",
        "# We then define the formula of Simpson's rule with the same parameters\n",
        "def integ_simpsons(a, b, n):\n",
        "  s = f(a) + f(b) # Terms in the formula of Simpson's rule\n",
        "  h = (b-a)/n # Area of one slice of trapezoid\n",
        "\n",
        "# Another loop is created for every value of k depending on the value of N, with n as a place holder\n",
        "  for k in range(1, n, 2): # Odd values of k\n",
        "   s += 4*f(a+k*h) # Increments to Simpson's rule\n",
        "  for k in range(2, n, 2): # Even values of k\n",
        "   s += 2*f(a+k*h) # Increment to Simpson's rule\n",
        "\n",
        "  return 1/3*h*s\n",
        "\n",
        "# Another loop is created applying the values of N\n",
        "for N in N_arr:\n",
        "   s = integ_simpsons(a, b, N) # Setting s as variable for Simpson's rule\n",
        "   percent_error = (s-exact_value)/exact_value # Percentage of the error depending on N\n",
        "   print(N, s, percent_error)\n",
        "\n",
        "# Base on the percent error from each method, we can see that the Simpson's rule is a lot more accurate compare to Trapezoidal rule"
      ]
    },
    {
      "cell_type": "markdown",
      "metadata": {
        "id": "m2a6sg90R-NX"
      },
      "source": [
        "### PROBLEM 2\n",
        "\n",
        "**Integration using Gaussian quadrature**\n",
        "\n",
        "Calculate the integral from Problem 1 using the Gaussian quadrature method: $ 2x^4 + 3x^2 + 4x + 5$ from $x=0$ to $x=5$.\n",
        "\n",
        "1. Define the function $\\tt gaussxw$ from Appendix E of the Newman text (and run the cell). *(10 pts.)*\n",
        "\n",
        "2. Calculate the integral using the $\\tt gaussxw$ function in (1) and number of slices $N = 3$. Describe each step in the calculation clearly and concisely. *(20 pts.)*"
      ]
    },
    {
      "cell_type": "code",
      "execution_count": 2,
      "metadata": {
        "colab": {
          "base_uri": "https://localhost:8080/"
        },
        "id": "YO_PDJ4VIVs5",
        "outputId": "8eaa15e1-011d-4536-c721-fa26e1076c94"
      },
      "outputs": [
        {
          "output_type": "stream",
          "name": "stdout",
          "text": [
            "1450.000000000002\n"
          ]
        }
      ],
      "source": [
        "# Problem 2\n",
        "# Import these specific functions from numpy library that will be used althroughout the code\n",
        "from numpy import ones, copy, cos, tan, pi, linspace\n",
        "\n",
        "# Defining the Gaussian quadrature function\n",
        "def gaussxw(N):\n",
        "  # Initial approximation to roots of the Legendre polynomial\n",
        "  a = linspace(3,4*N-1,N)/(4*N+2) # We define 'a' as an array of N values spaced between the given values\n",
        "                                  # The limits come from an approximation strategy for initializing the position of the roots of Legendre polynomials\n",
        "  x = cos(pi*a+1/(8*N*N*tan(a))) # We define 'x' as a cosine approximation to initialize Gaussian quadrature points\n",
        "\n",
        "  # Finding roots using Newton's method\n",
        "  epsilon = 1e-15 # A value to control the accuracy of the iterations in finding the roots of Legendre polynomials\n",
        "  delta = 1.0 # Initial value for the difference between the current and previous estimates of 'x'\n",
        "  # A while-loop is then created until delta is smaller than specified precision epsilon to refine 'x'\n",
        "  while delta > epsilon:\n",
        "    p0 = ones(N,float) # This creates a new array filled with ones used as a starting point in the sequence to calculate Legendre polynomials\n",
        "    p1 = copy(x) # This sets p1 to be copy of the most recent value of 'x' that will be used for the recursive calculation of Legendre polynomials\n",
        "    # A for-loop is created to apply different values of N\n",
        "    for k in range(1,N):\n",
        "      p0,p1 = p1,((2*k+1)*x*p1-k*p0)/(k+1) # Recurrence formula is then used to compute for higher-order Legendre polynomials\n",
        "    dp = (N+1)*(p0-x*p1)/(1-x*x) # Derivative of Legendre polynomial to refine the roots of the polynomial\n",
        "    dx = p1/dp # This represents the error of the current value of 'x'\n",
        "    x -= dx # This adjusts the current value of 'x' to be closer to the actual root of the Legendre polynomial\n",
        "    delta = max(abs(dx)) # This changes delta to be the maximun change in 'x' that stop the iteration process\n",
        "\n",
        "  # Getting the weight value using 'x' and dp\n",
        "  w = 2*(N+1)*(N+1)/(N*N*(1-x*x)*dp*dp)\n",
        "  return x,w\n",
        "\n",
        "# Defining the function that will be integrated\n",
        "def f(x):\n",
        "  return 2*x**4 + 3*x**2 + 4*x + 5\n",
        "\n",
        "N = 3 # Number of quadrature points\n",
        "a = 0.0 # Lower limit of the integration\n",
        "b = 5.0 # Upper limit of the integration\n",
        "\n",
        "x,w = gaussxw(N) # Calls gaussxw function to get 'x' and 'w'\n",
        "xp = 0.5*(b-a)*x + 0.5*(b+a) # Rescalled formula for quadrature points base on the given limits\n",
        "wp = 0.5*(b-a)*w # Rescalled formula for weight base on the given limits\n",
        "\n",
        "s = 0.0 # Initializing the variable 's' that will be used to get the result of Gaussian quadrature\n",
        "# A for-loop is created to apply different values of N\n",
        "for k in range (N):\n",
        "  s += wp[k]*f(xp[k]) # Calculating the sum of using all values of k to get the estimation to the integral\n",
        "\n",
        "print(s)"
      ]
    },
    {
      "cell_type": "markdown",
      "metadata": {
        "id": "HceOjNu-VfN9"
      },
      "source": [
        "### PROBLEM 3\n",
        "\n",
        "**Physics Application: Anharmonic Oscillator**\n",
        "\n",
        "_Refer to Exercise 5.10 of the Newman text._ Consider an anharmonic oscillator with potential $V(x)$ symmetric about $x = 0$. Let us set our anharmonic oscillator going with amplitude $a$. That is, at $t = 0$ we release it from rest at position $x = a$ and it swings back towards the origin. Then at $t = 0$ we have $dx/dt = 0$ and the equation for its total energy becomes $E = V(a)$, i.e., the total energy of the particle is given in terms of the amplitude.\n",
        "\n",
        "When the particle reaches the origin for the first time, it has gone through one quarter of a period of the oscillator. The period $T$ is given by: $$ T = \\sqrt{8m} \\int_0^a \\frac{dx}{\\sqrt{V(a)-V(x)}}. $$\n",
        "\n",
        "1. Suppose the potential is $V(x) = x^4$ and the mass of the particle is $m = 1$. Write a Python function that calculates the period of the oscillator for given amplitude a using Gaussian quadrature with $N = 20$ points. Describe each step clearly and concisely. *(20 pts.)*\n",
        "\n",
        "2. Use your function to make a graph of the period for amplitudes ranging from $a = 0$ to $a = 2$. Describe the behavior you find and explain these results clearly and concisely. *(20 pts.)*"
      ]
    },
    {
      "cell_type": "code",
      "execution_count": 3,
      "metadata": {
        "id": "p28JF-OQYock",
        "colab": {
          "base_uri": "https://localhost:8080/",
          "height": 472
        },
        "outputId": "e123076e-c730-42c1-d066-ea6b44e5a48d"
      },
      "outputs": [
        {
          "output_type": "display_data",
          "data": {
            "text/plain": [
              "<Figure size 640x480 with 1 Axes>"
            ],
            "image/png": "[encoded data removed]"
          },
          "metadata": {}
        }
      ],
      "source": [
        "# Problem 3\n",
        "# Importing the necessary libraries\n",
        "from numpy import ones, copy, cos, tan, pi, linspace\n",
        "import numpy as np\n",
        "import matplotlib.pyplot as plt\n",
        "import math\n",
        "\n",
        "# Defining the Gaussian quadrature function\n",
        "def gaussxw(N):\n",
        "# Initial approximation to roots of the Legendre polynomial\n",
        "  a = linspace(3,4*N-1,N)/(4*N+2) # We define 'a' as an array of N values spaced between the given values\n",
        "                                  # The limits come from an approximation strategy for initializing the position of the roots of Legendre polynomials\n",
        "  x = cos(pi*a+1/(8*N*N*tan(a))) # We define 'x' as a cosine approximation to initialize Gaussian quadrature points\n",
        "\n",
        "  # Find roots using Newton's method\n",
        "  epsilon = 1e-15 # A value to control the accuracy of the iterations in finding the roots of Legendre polynomials\n",
        "  delta = 1.0 # Initial value for the difference between the current and previous estimates of 'x'\n",
        "  # A while-loop is then created until delta is smaller than specified precision epsilon to refine 'x'\n",
        "  while delta > epsilon:\n",
        "    p0 = ones(N,float) # This creates a new array filled with ones used as a starting point in the sequence to calculate Legendre polynomials\n",
        "    p1 = copy(x) # This sets p1 to be copy of the most recent value of 'x' that will be used for the recursive calculation of Legendre polynomials\n",
        "    # A for-loop is created to apply different values of N\n",
        "    for k in range(1,N):\n",
        "      p0,p1 = p1,((2*k+1)*x*p1-k*p0)/(k+1) # Recurrence formula is then used to compute for higher-order Legendre polynomials\n",
        "    dp = (N+1)*(p0-x*p1)/(1-x*x) # Derivative of Legendre polynomial to refine the roots of the polynomial\n",
        "    dx = p1/dp # This represents the error of the current value of 'x'\n",
        "    x -= dx # This adjusts the current value of 'x' to be closer to the actual root of the Legendre polynomial\n",
        "    delta = max(abs(dx)) # This changes delta to be the maximun change in 'x' that stop the iteration process\n",
        "\n",
        "  # Getting the weight value using 'x' and dp\n",
        "  w = 2*(N+1)*(N+1)/(N*N*(1-x*x)*dp*dp)\n",
        "  return x,w\n",
        "\n",
        "# Defining the given potential function\n",
        "def V(x):\n",
        "  return x**4\n",
        "\n",
        "N = 20 # Number for quadrature points\n",
        "m = 1 # Given mass of the particle\n",
        "a = 2.0 # The initial amplitude for the oscillations\n",
        "        # Oscillation requires a non-zero amplitude becaue it represents how far a system moves from its equilibrium point hence a = 0.0 is not needed\n",
        "\n",
        "# Defining the period function that will be integrated\n",
        "def integ(x, a):\n",
        "  return 1/math.sqrt(V(a)-V(x))\n",
        "\n",
        "# Defining the function that will calculate the period T with the given amplitude using Gaussian quadrature\n",
        "def T(a, N):\n",
        "  x,w = gaussxw(N) # Calls gaussxw function to get 'x' and 'w'\n",
        "  xp = 0.5*(a)*x + 0.5*(a) # Rescalled formula for quadrature points base on the given limits\n",
        "  wp = 0.5*(a)*w # Rescalled formula for weight base on the given limits\n",
        "\n",
        "  s = 0.0 # Initializing the variable 's' that will be used to get the result of Gaussian quadrature\n",
        "  # A for-loop is created to apply different values of N\n",
        "  for k in range (N):\n",
        "    s += wp[k]*integ(xp[k],a) # Calculating the sum of using all values of k to get the estimation to the integral\n",
        "  return math.sqrt(8*m)*s\n",
        "\n",
        "N_graph = 100 # Number of points that will be used on the graph\n",
        "a_plot = np.zeros(N_graph) # Array to store all the amplitude values\n",
        "T_plot = np.zeros(N_graph) # Array to store all the period values\n",
        "\n",
        "# Creating a for-loop\n",
        "for i in range(N_graph):\n",
        "  a_plot[i] = a/N_graph * (i + 1)\n",
        "for i in range(N_graph):\n",
        "  T_plot[i] = T(a_plot[i], N)\n",
        "\n",
        "# Plotting the results\n",
        "plt.plot(a_plot,T_plot)\n",
        "plt.scatter(a_plot, T_plot, color='red')\n",
        "plt.title(\"Period(T) vs Amplitude(a)\")\n",
        "plt.xlabel(\"Amplitude(a)\")\n",
        "plt.ylabel(\"Period(T)\")\n",
        "plt.grid()\n",
        "plt.show()\n",
        "\n",
        "# The graph shows a resemblance to the behavior of 1/x which validates our calculations\n",
        "# The graph shows that period increases as amplitude increases\n",
        "# This is because with larger movements of the amplitude, the force pulling the oscillator back becomes weaker\n",
        "# Which leads to slower movement of the oscillator (increased amplitude) that takes more time to return (increased period) due to the potential (x**4)\n"
      ]
    }
  ],
  "metadata": {
    "colab": {
      "provenance": []
    },
    "kernelspec": {
      "display_name": "Python 3",
      "name": "python3"
    }
  },
  "nbformat": 4,
  "nbformat_minor": 0
}