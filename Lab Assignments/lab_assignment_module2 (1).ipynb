{
  "cells": [
    {
      "cell_type": "markdown",
      "metadata": {
        "id": "G0BcK0H_G1Iu"
      },
      "source": [
        "# **AP155 Lab Assignment**\n",
        "## Module 2: Solution of Linear and Nonlinear Equations\n",
        "\n",
        "_Instructions_: Answer each problem as completely as you can. Discuss **all** your answers as clearly and concisely as possible.\n",
        "\n",
        "_Scoring Criteria_: 50% - *correctness of code*; 50% - *discussion of the code and results*. Maximum score is **100 points**.\n",
        "\n"
      ]
    },
    {
      "cell_type": "markdown",
      "metadata": {
        "id": "PeHZ9kP8JaVR"
      },
      "source": [
        "### Student Information\n",
        "\n",
        "_Full Name (Last Name, First Name)_: Torero, William Klien\n",
        "_Student No._: 2022-10739\n",
        "_Section_: THV-TX-2"
      ]
    },
    {
      "cell_type": "markdown",
      "metadata": {
        "id": "Hc183co-J4eI"
      },
      "source": [
        "### Submission Information\n",
        "\n",
        "_Date and Time Submitted (most recent upload)_: October 6, 2024\n",
        "\n",
        "**HONOR PLEDGE** I affirm that I have upheld the highest principles of honesty and integrity in my academic work and that this lab assignment is my own work.\n",
        "\n",
        "**Sign here with your full name:**\n",
        "![Signature.png](data:image/png;base64,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)"
      ]
    },
    {
      "cell_type": "markdown",
      "metadata": {
        "id": "4LUwfsfMBmvd"
      },
      "source": [
        "### Grading Information (c/o Lab Instructor)\n",
        "\n",
        "TOTAL SCORE: **XX**/100\n",
        "\n",
        "Score breakdown:\n",
        "* Problem 1 - XX/30\n",
        "* Problem 2 - XX/30\n",
        "* Problem 3 - XX/40\n",
        "\n"
      ]
    },
    {
      "cell_type": "markdown",
      "metadata": {
        "id": "kBX9EyMLOnXj"
      },
      "source": [
        "### PROBLEM 1\n",
        "\n",
        "**Solve for eigenvalues and eigenvectors of a symmetric matrix**\n",
        "\n",
        "1. Use numpy's $\\tt linalg$ package to find the eigenvalues and eigenvectors of the ff. symmetrix matrix *(15 pts.)*:\n",
        "\n",
        "$ \\begin{equation}\n",
        "{\\bf A} =\n",
        "\\begin{pmatrix}\n",
        "8 & -2 & -20 \\\\\n",
        "-2 & -3 & -9 \\\\\n",
        "-20 & -9 & -3\n",
        "\\end{pmatrix} \\end{equation} $\n",
        "\n",
        "2. Check your answer numerically; that is, check that $\\bf AV = VD$, where the $N$ x $N$ matrix $\\bf V$ has the eigenvectors as its columns and $\\bf D$ is the diagonal matrix with the eigenvalues $\\lambda_i$ as its diagonal entries. *(15 pts.)*"
      ]
    },
    {
      "cell_type": "code",
      "execution_count": 32,
      "metadata": {
        "colab": {
          "base_uri": "https://localhost:8080/"
        },
        "id": "GABjwlXCR97i",
        "outputId": "3bcdeeb7-c7db-4d7f-9472-d6638e7ecfac"
      },
      "outputs": [
        {
          "output_type": "stream",
          "name": "stdout",
          "text": [
            "Eigenvalues:\n",
            "[-21.99606195   0.16021522  23.83584674]\n",
            "Eigenvectors (V):\n",
            "[[ 0.52496527  0.36793396 -0.76748685]\n",
            " [ 0.40892672 -0.89987151 -0.15169114]\n",
            " [ 0.74645187  0.2342133   0.62285932]]\n",
            "Diagonal matrix (D):\n",
            "[[-21.99606195   0.           0.        ]\n",
            " [  0.           0.16021522   0.        ]\n",
            " [  0.           0.          23.83584674]]\n",
            "A * V:\n",
            "[[-11.54716868   0.05894862 -18.29369893]\n",
            " [ -8.99477756  -0.14417311  -3.61568676]\n",
            " [-16.4190016    0.03752454  14.8463793 ]]\n",
            "V * D:\n",
            "[[-11.54716868   0.05894862 -18.29369893]\n",
            " [ -8.99477756  -0.14417311  -3.61568676]\n",
            " [-16.4190016    0.03752454  14.8463793 ]]\n",
            "Is A * V approximately equal to V * D?\n",
            "True\n",
            "Percent Error of the Matrix:\n",
            "[[1.53834839e-14 1.01231357e-12 0.00000000e+00]\n",
            " [1.97487579e-14 7.31559351e-13 3.68468763e-14]\n",
            " [2.16378180e-14 1.16497196e-12 5.98245809e-14]]\n",
            "3.4025404414143773e-13\n"
          ]
        }
      ],
      "source": [
        "# Problem #1\n",
        "from numpy import array\n",
        "from numpy.linalg import eigh # importing the numpy linear algebra package that solves both eigenvalues and eigenvectors for symmetric matrices\n",
        "\n",
        "# We first define the given matrix to be solved\n",
        "A = np.array([[8, -2, -20],\n",
        "              [-2, -3, -9],\n",
        "              [-20, -9, -3]])\n",
        "\n",
        "# Solving both eigenvalues and eigenvectors of symmetric matrix A using numpy's function linalg\n",
        "eigenvalues, eigenvectors = eigh(A)\n",
        "\n",
        "# Setting the acquired eigenvalues as the diagonal element of a diagonal matrix D\n",
        "D = np.diag(eigenvalues)\n",
        "\n",
        "# Solving the left-hand-side of AV=VD equation\n",
        "AV = A @ eigenvectors # Matrix multiplication of A and eigenvectors\n",
        "# Solving the right-hand-side of AV=VD equation\n",
        "DV = eigenvectors @ D # Matrix multiplication of eigenvectors and D\n",
        "\n",
        "# Showing the acquired eigenvalues\n",
        "print(\"Eigenvalues:\")\n",
        "print(eigenvalues)\n",
        "\n",
        "# Showing the acquired eigenvectors\n",
        "print(\"Eigenvectors (V):\")\n",
        "print(eigenvectors)\n",
        "\n",
        "# Showing the diagonal matrix with eigenvalues as diagonal entries\n",
        "print(\"Diagonal matrix (D):\")\n",
        "print(D)\n",
        "\n",
        "# Printing the LHS of AV=VD equation\n",
        "print(\"A * V:\")\n",
        "print(AV)\n",
        "\n",
        "# Printing the RHS of AV=VD equation\n",
        "print(\"V * D:\")\n",
        "print(DV)\n",
        "\n",
        "# Checking of AV=VD is indeed true using numpy's function allclose\n",
        "print(\"Is A * V approximately equal to V * D?\")\n",
        "print(np.allclose(AV, DV))\n",
        "\n",
        "#Solving for the percent error of the calculated AV=VD\n",
        "absolute_error = np.abs(AV - DV) # Calculate first the absolute error between AV and DV\n",
        "\n",
        "denominator = np.where(AV == 0, 1e-10, np.abs(AV)) # Preventing division by 0 by replacing zero entries from AV with a very small value (1e-10); otherwise, take the absolute value of AV as denominator\n",
        "\n",
        "relative_error = absolute_error / denominator # Calculate the relative error\n",
        "\n",
        "percent_error = relative_error * 100 # Converting the relative error into percentage form\n",
        "\n",
        "average_percent_error = np.mean(percent_error) # Calculating the mean of the values within the calculated matrix of percent error to get a single value\n",
        "\n",
        "# Showing the average percent error\n",
        "print(\"Percent Error of the Matrix:\")\n",
        "print(percent_error) # Matrix form\n",
        "print(average_percent_error) # Overall error"
      ]
    },
    {
      "cell_type": "markdown",
      "metadata": {
        "id": "HceOjNu-VfN9"
      },
      "source": [
        "### PROBLEM 2\n",
        "\n",
        "**Solve a nonlinear equation using the relaxation method**\n",
        "\n",
        "Consider the equation $x=1- e^{-cx}$, where $c$ is a known parameter and $x$ is unknown. This equation arises in a variety of situations, including the physics of contact processes, mathematical models of epidemics, and the theory of random graphs.\n",
        "\n",
        "1. Write a program to solve this equation for $x$ using the relaxation method for the case $c = 2$. Calculate your solution to an accuracy of at least $10^{-6}$. *(10 pts.)*\n",
        "\n",
        "2. Modify your program to calculate the solution for values of $c$ from 0 to 3 in steps of 0.01. *(10 pts.)*\n",
        "\n",
        "3. Make a plot of $x$ as a function of $c$. Describe the different regimes that you see. *(10 pts.)*"
      ]
    },
    {
      "cell_type": "code",
      "execution_count": 33,
      "metadata": {
        "id": "p28JF-OQYock",
        "colab": {
          "base_uri": "https://localhost:8080/",
          "height": 490
        },
        "outputId": "d7534b70-a337-4c1c-a6a1-bede13742788"
      },
      "outputs": [
        {
          "output_type": "stream",
          "name": "stdout",
          "text": [
            "Solution of x for c=2 is x=0.7984747083247583\n"
          ]
        },
        {
          "output_type": "display_data",
          "data": {
            "text/plain": [
              "<Figure size 640x480 with 1 Axes>"
            ],
            "image/png": "[encoded data removed]"
          },
          "metadata": {}
        }
      ],
      "source": [
        "# Problem 2\n",
        "from numpy import array, linspace\n",
        "from math import exp\n",
        "import matplotlib.pyplot as plt\n",
        "\n",
        "# Defining the given function specifying the given parameters\n",
        "def f(x, c):\n",
        "    return 1 - exp(-c*x)\n",
        "\n",
        "# Defining the relaxation method that will repeatedly solve for x within the given tolerance\n",
        "def relaxation_method(x, c, tolerance):\n",
        "  x_previous = x # The initial value of x\n",
        "  x_new = f(x, c) # The new value of x using x_previous\n",
        "  while abs(x_new - x_previous) > tolerance: # Setting a while loop until the difference between the previous and new value of x is within tolerance\n",
        "    x_previous = x_new # Updating the previous value of x to be the new one\n",
        "    x_new = f(x_new, c) # Computing the newer value of x using the updated value of x_new\n",
        "  return x_new\n",
        "\n",
        "# Defining the tolerance for the function to converge\n",
        "tolerance = 1*exp(-6)\n",
        "\n",
        "# Calculating the solution at c=2 with the predicted value of x=1\n",
        "solution = relaxation_method(1, 2, tolerance)\n",
        "print(f\"Solution of x for c=2 is x={solution}\") # Showing the solution of x at c=2\n",
        "C = linspace(0, 3, 300+1) # Setting an array with values of 0 to 3 with an increment of 0.01 hence it will be 301 equally spaced value from the given range\n",
        "X = array([relaxation_method(1, i, tolerance) for i in C]) # Applying the 301 values of c with an increment of 0.01 to the relaxation method\n",
        "\n",
        "# Plotting the C corresponding the X (x_new)\n",
        "plt.plot(C, X)\n",
        "plt.xlabel(\"c\")\n",
        "plt.ylabel(\"x\")\n",
        "plt.title(\"Solution of x vs c using Relaxation Method\")\n",
        "plt.grid()\n",
        "plt.show()\n",
        "\n",
        "# The graph shows that for small values of c, the graph converge very slow\n",
        "# This is because the exponential term dominates the c value\n",
        "# As the c value increases, the graph coverge a lot faster and it approached the value of x=1\n",
        "# This shows that x=1 is a solution to the relaxation method because the graph converges near the value of x=1"
      ]
    },
    {
      "cell_type": "markdown",
      "metadata": {
        "id": "BY5x-mZsYoqG"
      },
      "source": [
        "### PROBLEM 3\n",
        "\n",
        "**Physics Application: Calculating the Lagrange point**\n",
        "\n",
        "_Refer to Exercise 6.16 of the Newman text._ The $L_1$ Lagrange point is the point between the Earth and the Moon at which a satellite will orbit the Earth in perfect synchrony with the Moon, staying always in between the two.\n",
        "\n",
        "Assuming circular orbits, and assuming that the Earth is much more massive than either the Moon or the satellite, the distance $r$ from the center of the Earth to the $L_1$ point satisfies\n",
        "$$ \\begin{equation}\n",
        "\\frac{GM}{r^2} - \\frac{Gm}{(R-r)^2} = \\omega^2 r,\n",
        "\\end{equation} $$\n",
        "where $R$ is the distance from the Earth to the Moon, $M$ and $m$ are the Earth and Moon masses, $G$ is Newton's gravitational constant, and $\\omega$ is the angular velocity of both the Moon and the satellite."
      ]
    },
    {
      "cell_type": "markdown",
      "metadata": {
        "id": "LlDDXIZ46CKU"
      },
      "source": [
        "Use Newton's method to solve for the distance r from the Earth to the $L_1$ point. Compute a solution accurate to at least four significant figures."
      ]
    },
    {
      "cell_type": "code",
      "execution_count": 37,
      "metadata": {
        "colab": {
          "base_uri": "https://localhost:8080/"
        },
        "id": "Jiu5YAx6aMmq",
        "outputId": "682e096e-3234-4b49-fab1-eda97bdd097a"
      },
      "outputs": [
        {
          "output_type": "stream",
          "name": "stdout",
          "text": [
            "346024120.78915304\n"
          ]
        }
      ],
      "source": [
        "# Problem 3\n",
        "R = 3.844e8 # Distance between Earth and Moon in m\n",
        "M = 5.974e24 # Mass of the Earth in kg\n",
        "m = 7.348e22 # Mass of the Moon in kg\n",
        "G = 6.674e-11 # Gravitational constant in N*m**2/kg**2\n",
        "W = 2.662e-6 # Angular velocity of the system in rad/s\n",
        "\n",
        "# Defining the function to use from the given equation\n",
        "def f(r):\n",
        "  return (G*M/r**2 - G*m/(R-r)**2)/W**2\n",
        "\n",
        "# Take the derivative of the original function with respect to r\n",
        "def df(r):\n",
        "  return (-2*G*M/r**3 - 2*G*m/(R-r)**3)/W**2\n",
        "\n",
        "# Defining the tolerance to converge using Newton's method\n",
        "tolerance = 10e-4\n",
        "\n",
        "# Defining the Newton's method that will find the root of f(r)=0 starting with the initial guess of r\n",
        "def newtons_method(r, tolerance):\n",
        "  r_previous = r # Initial guess for r\n",
        "  r_new = r-f(r)/df(r) # Perform the first Newton's method that will be the new value of r\n",
        "  while abs(r_new - r_previous) > tolerance: # Setting a while loop until the difference between the previous and new value of r is within tolerance\n",
        "    r_previous = r_new # Updating the previous value of r to be the new one\n",
        "    r_new = r_new-f(r_new)/df(r_new) # Replacing the new r with a newer r using Newton's method\n",
        "  return r_new\n",
        "\n",
        "# Showing the final solution to the problem found using Newton's method setting r=10000 as the initial guess\n",
        "print(newtons_method(10000, tolerance))"
      ]
    }
  ],
  "metadata": {
    "colab": {
      "provenance": []
    },
    "kernelspec": {
      "display_name": "Python 3",
      "name": "python3"
    }
  },
  "nbformat": 4,
  "nbformat_minor": 0
}